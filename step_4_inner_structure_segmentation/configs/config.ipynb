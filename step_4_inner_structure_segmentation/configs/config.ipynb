{
 "cells": [
  {
   "cell_type": "code",
   "execution_count": 1,
   "metadata": {},
   "outputs": [
    {
     "data": {
      "text/plain": [
       "'./config_five_classes.json'"
      ]
     },
     "execution_count": 1,
     "metadata": {},
     "output_type": "execute_result"
    }
   ],
   "source": [
    "# Basic imports\n",
    "import os\n",
    "import sys\n",
    "import json\n",
    "\n",
    "import pandas as pd \n",
    "import numpy as np \n",
    "from datetime import datetime\n",
    "sys.path.append(os.path.abspath('../..'))\n",
    "from utils.utils_constants import COMBINED_CLASSIFICATION_PATH, CROPPED_VESSELS_COMBINED_DIR\n",
    "\n",
    "import logging\n",
    "logging.basicConfig(level=logging.INFO, format='%(asctime)s - %(levelname)s - %(message)s')\n",
    "\n",
    "# timestamp = datetime.now().strftime(\"%Y%m%d_%H%M%S\")\n",
    "CONFIG_PATH = f\"./config_five_classes.json\"\n",
    "CONFIG_PATH"
   ]
  },
  {
   "cell_type": "code",
   "execution_count": 2,
   "metadata": {},
   "outputs": [],
   "source": [
    "configs = {\n",
    "    \"net\": {\n",
    "        \"in_channels\": 3,\n",
    "        \"n_classes\": 5,\n",
    "        \"padding\": True,  # Ensure boolean values are capitalized in Python\n",
    "        \"depth\": 5,\n",
    "        \"wf\": 4,\n",
    "        \"up_mode\": \"upconv\",\n",
    "        \"batch_norm\": True,  # Ensure boolean values are capitalized in Python\n",
    "    },\n",
    "\n",
    "    \"training\": {\n",
    "        \"gpu_id\": 0,\n",
    "        \"batch_size\": 10,\n",
    "        \"num_epochs\": 50,\n",
    "        \"lr\": 0.001,\n",
    "        \"edge_weight\": 1.2,\n",
    "        \"class_weights\": [0.47, 0.53],  # Python lists should be formatted correctly\n",
    "        \"ignore_index\": -100\n",
    "    },\n",
    "\n",
    "    \"data\": {\n",
    "        \"base_path\": \"/DataMount/NEPTUNE/Cropped_Vessels_Combined/\",\n",
    "        \"mask_suffix\": \"_mask.png\",\n",
    "        \"resize_to\": 256,  # Corrected to include a trailing comma if expecting further entries\n",
    "        \"train_files\": [],\n",
    "        \"val_files\": []\n",
    "    }\n",
    "}"
   ]
  },
  {
   "cell_type": "code",
   "execution_count": 3,
   "metadata": {},
   "outputs": [],
   "source": [
    "combined_classifications = pd.read_csv(COMBINED_CLASSIFICATION_PATH)\n",
    "combined_classifications = combined_classifications[combined_classifications[\"Artery Type\"] != \"Others\"]\n",
    "# Generate 'Biopsy ID' by extracting relevant part from 'Image Name'\n",
    "combined_classifications[\"Biopsy ID\"] = combined_classifications[\"Image Name\"].apply(lambda x: \"Biopsy_\" + x.split(\"_\")[1])\n",
    "\n",
    "# Ensure that there is no data leakage between training and validation sets by consistent split\n",
    "biopsy_ids = combined_classifications[\"Biopsy ID\"].unique()\n",
    "np.random.shuffle(biopsy_ids)  # Randomize the order to avoid biased splits\n",
    "\n",
    "# Assign the first 180 unique Biopsy IDs to training and the rest to validation\n",
    "train_biopsy_ids = biopsy_ids[:180]\n",
    "val_biopsy_ids = biopsy_ids[180:]\n",
    "\n",
    "# Select records for training and validation datasets based on 'Biopsy ID'\n",
    "train_files = combined_classifications[combined_classifications[\"Biopsy ID\"].isin(train_biopsy_ids)][\"Image Name\"].values\n",
    "val_files = combined_classifications[combined_classifications[\"Biopsy ID\"].isin(val_biopsy_ids)][\"Image Name\"].values\n",
    "\n",
    "# Update configurations with the lists of training and validation files\n",
    "configs[\"data\"][\"train_files\"] = [os.path.join(CROPPED_VESSELS_COMBINED_DIR, x.replace(\".png\", \"_ori.png\")) for x in train_files]  # Convert NumPy array to list for JSON compatibility if needed\n",
    "configs[\"data\"][\"val_files\"] = [os.path.join(CROPPED_VESSELS_COMBINED_DIR, x.replace(\".png\", \"_ori.png\")) for x in val_files]  # Convert NumPy array to list for JSON compatibility if needed\n",
    "\n",
    "# Save the updated configuration back to the file\n",
    "\n",
    "with open(CONFIG_PATH, 'w') as config_file:\n",
    "    json.dump(configs, config_file, indent=4)"
   ]
  },
  {
   "cell_type": "code",
   "execution_count": null,
   "metadata": {},
   "outputs": [],
   "source": []
  }
 ],
 "metadata": {
  "kernelspec": {
   "display_name": "artery",
   "language": "python",
   "name": "python3"
  },
  "language_info": {
   "codemirror_mode": {
    "name": "ipython",
    "version": 3
   },
   "file_extension": ".py",
   "mimetype": "text/x-python",
   "name": "python",
   "nbconvert_exporter": "python",
   "pygments_lexer": "ipython3",
   "version": "3.9.18"
  }
 },
 "nbformat": 4,
 "nbformat_minor": 2
}
