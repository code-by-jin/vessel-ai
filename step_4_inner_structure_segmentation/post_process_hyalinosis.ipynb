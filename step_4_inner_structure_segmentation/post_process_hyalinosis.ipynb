{
 "cells": [
  {
   "cell_type": "code",
   "execution_count": 1,
   "metadata": {},
   "outputs": [],
   "source": [
    "import os\n",
    "import cv2\n",
    "import numpy as np\n",
    "import matplotlib.pyplot as plt\n",
    "import shutil\n",
    "import sys\n",
    "sys.path.append(os.path.abspath('..'))\n",
    "from utils.utils_vis import save_image\n",
    "\n",
    "# Directory where the images are stored\n",
    "save_dir = \"/DataMount/NEPTUNE/Cropped_Vessels_Combined_Pred_Hyalinosis/\"\n",
    "\n",
    "# List all files in the directory\n",
    "for img_name in os.listdir(save_dir):\n",
    "    if not img_name.endswith(\"_pred_hya_20240706-234141_epoch_50.png\"): continue\n",
    "    # Construct the full path to the image\n",
    "    img_path = os.path.join(save_dir, img_name)\n",
    "    # Read the image as a grayscale image\n",
    "    img = cv2.imread(img_path, cv2.IMREAD_GRAYSCALE)\n",
    "    \n",
    "    # Check if the image is not completely black\n",
    "    if np.any(img):\n",
    "        # Find all contours in the original image\n",
    "        contours, _ = cv2.findContours(img, cv2.RETR_EXTERNAL, cv2.CHAIN_APPROX_SIMPLE)\n",
    "        # Draw all contours\n",
    "        # img_with_contours = cv2.drawContours(np.zeros_like(img), contours, -1, (255, 0, 0), 2)\n",
    "        \n",
    "        # Post-processing to remove small objects\n",
    "        kernel = np.ones((3,3), np.uint8)\n",
    "        opening = cv2.morphologyEx(img, cv2.MORPH_OPEN, kernel, iterations=2)  # Remove small objects\n",
    "        closing = cv2.morphologyEx(opening, cv2.MORPH_CLOSE, kernel, iterations=2)  # Close small holes\n",
    "        save_image(closing, img_path.replace(\".png\", \"_processed.png\"))\n",
    "    else:\n",
    "        shutil.copy(img_path, img_path.replace(\".png\", \"_processed.png\"))\n",
    "        # # Find contours again after post-processing\n",
    "        # processed_contours, _ = cv2.findContours(closing, cv2.RETR_EXTERNAL, cv2.CHAIN_APPROX_SIMPLE)\n",
    "        # img_with_processed_contours = cv2.drawContours(np.zeros_like(img), processed_contours, -1, (255, 0, 0), 2)\n",
    "        \n",
    "        # # Display original and processed images side by side\n",
    "        # plt.figure(figsize=(12, 6))\n",
    "        # plt.subplot(1, 2, 1)\n",
    "        # plt.imshow(img_with_contours, cmap='gray')\n",
    "        # plt.title('Original Contours')\n",
    "        # plt.subplot(1, 2, 2)\n",
    "        # plt.imshow(img_with_processed_contours, cmap='gray')\n",
    "        # plt.title('Processed Contours')\n",
    "        # plt.show()\n"
   ]
  },
  {
   "cell_type": "code",
   "execution_count": null,
   "metadata": {},
   "outputs": [],
   "source": []
  }
 ],
 "metadata": {
  "kernelspec": {
   "display_name": "artery",
   "language": "python",
   "name": "python3"
  },
  "language_info": {
   "codemirror_mode": {
    "name": "ipython",
    "version": 3
   },
   "file_extension": ".py",
   "mimetype": "text/x-python",
   "name": "python",
   "nbconvert_exporter": "python",
   "pygments_lexer": "ipython3",
   "version": "3.9.18"
  }
 },
 "nbformat": 4,
 "nbformat_minor": 2
}
