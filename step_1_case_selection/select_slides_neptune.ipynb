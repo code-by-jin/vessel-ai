{
 "cells": [
  {
   "cell_type": "code",
   "execution_count": 1,
   "metadata": {},
   "outputs": [],
   "source": [
    "# Basic imports and configuration for the project.\n",
    "import os\n",
    "import sys\n",
    "import pandas as pd  # type: ignore\n",
    "\n",
    "from util import (\n",
    "    identify_wsi_based_on_prefix,\n",
    "    update_flag_and_check_missing,\n",
    "    get_wsi_files_by_biopsy_id_and_stain,\n",
    "    check_if_file_exists,\n",
    "    check_if_file_openable\n",
    ")\n",
    "\n",
    "# Extend the system path to include the parent directory for module imports.\n",
    "sys.path.append(os.path.abspath('..'))\n",
    "\n",
    "# Import constants and utility functions from utils module.\n",
    "from utils.utils_constants import (\n",
    "    NEPTUNE_PAT_INFO_PATH as PAT_INFO_PATH,\n",
    "    NEPTUNE_WSI_INFO_PATH as WSI_INFO_PATH,\n",
    "    VESSEL_NEPTUNE_PAT_INFO_PATH,\n",
    "    VESSEL_SEGMENTATION_REF_PATH,\n",
    "    INNER_SEGMENTATION_REF_DIR,\n",
    "    TRI_CASE_DIR\n",
    ")\n",
    "\n",
    "# Configure logging to help track application behavior and debug issues.\n",
    "import logging\n",
    "logging.basicConfig(level=logging.INFO, format='%(asctime)s - %(levelname)s - %(message)s')\n",
    "\n",
    "# Define the stain type used across this module.\n",
    "STAIN = \"TRI\""
   ]
  },
  {
   "cell_type": "code",
   "execution_count": 2,
   "metadata": {},
   "outputs": [],
   "source": [
    "# Load the data\n",
    "pat_df = pd.read_csv(PAT_INFO_PATH)\n",
    "wsi_df = pd.read_excel(WSI_INFO_PATH)"
   ]
  },
  {
   "cell_type": "code",
   "execution_count": 3,
   "metadata": {},
   "outputs": [
    {
     "name": "stdout",
     "output_type": "stream",
     "text": [
      "Total 837 Arteries Annotated in TRI Stained 58 Slides\n",
      "Notice: Prefix '11_26609_023_507' is associated with 3 TRI Stained WSI File(s).\n",
      "Notice: Prefix '11_26609_023_510' is associated with 3 TRI Stained WSI File(s).\n",
      "Notice: Prefix '11_26609_025_503' is associated with 2 TRI Stained WSI File(s).\n",
      "Notice: Prefix '11_26609_027_506' is associated with 2 TRI Stained WSI File(s).\n",
      "Notice: Prefix '12_26609_021_508' is associated with no unique biopsy ID(s).\n",
      "Notice: Prefix '12_26609_024_502' is associated with 2 TRI Stained WSI File(s).\n",
      "Notice: Prefix '12_26609_027_511' is associated with 3 TRI Stained WSI File(s).\n",
      "Notice: Prefix '12_26609_027_513' is associated with 2 TRI Stained WSI File(s).\n",
      "Notice: Prefix '12_26609_028_012' is associated with 2 TRI Stained WSI File(s).\n",
      "Notice: Prefix '12_26609_032_002' is associated with 2 TRI Stained WSI File(s).\n",
      "Notice: Prefix '12_26609_033_511' is associated with 0 TRI Stained WSI File(s).\n",
      "Notice: Prefix '13_26609_027_521' is associated with 2 TRI Stained WSI File(s).\n",
      "Notice: Prefix '13_26609_029_514' is associated with 2 TRI Stained WSI File(s).\n",
      "Notice: Prefix '13_26609_031_006' is associated with 2 TRI Stained WSI File(s).\n",
      "Notice: Prefix '13_26609_040_007' is associated with 2 TRI Stained WSI File(s).\n",
      "Notice: Prefix '13_26609_095_501' is associated with 3 TRI Stained WSI File(s).\n",
      "Notice: Prefix '13_26609_095_503' is associated with 3 TRI Stained WSI File(s).\n",
      "Notice: Prefix '14_26609_024_037' is associated with 2 TRI Stained WSI File(s).\n",
      "Notice: Prefix '17_26609_035_507' is associated with 2 TRI Stained WSI File(s).\n",
      "Notice: Prefix '17_26609_035_510' is associated with 2 TRI Stained WSI File(s).\n",
      "Notice: Prefix '17_26609_040_046' is associated with 3 TRI Stained WSI File(s).\n"
     ]
    }
   ],
   "source": [
    "# Selecting cases in vessel segmentation task (Jayapandian & Chen, KI, 2020)\n",
    "seg_ref = pd.read_excel(VESSEL_SEGMENTATION_REF_PATH, skiprows=3)\n",
    "seg_ref = seg_ref[seg_ref[\"File_Name\"].notna() & seg_ref[STAIN].notna()]\n",
    "print(f\"Total {int(seg_ref[STAIN].sum())} Arteries Annotated in {STAIN} Stained {len(seg_ref)} Slides\")\n",
    "seg_prefixes = [s.strip().replace(\"-\", \"_\") for s in seg_ref[\"File_Name\"].tolist()]\n",
    "seg_biopsies, seg_biopsy_to_wsi_map = identify_wsi_based_on_prefix(wsi_df, seg_prefixes, STAIN)"
   ]
  },
  {
   "cell_type": "code",
   "execution_count": 4,
   "metadata": {},
   "outputs": [
    {
     "name": "stdout",
     "output_type": "stream",
     "text": [
      "Warning: Prefix '015_TRI_235805' is not found in WSI Info.\n",
      "Warning: Prefix '16-010-02_TRI_11632_copy' is not found in WSI Info.\n",
      "Warning: Prefix '16-032-02_TRI_11628_copy' is not found in WSI Info.\n",
      "Warning: Prefix '2_4827_A_0045173' is not found in WSI Info.\n",
      "Warning: Prefix '2_4839_A_0039862' is not found in WSI Info.\n",
      "Warning: Prefix '2_4841_A_0045207' is not found in WSI Info.\n",
      "Warning: Prefix '2_6063_A_0045151' is not found in WSI Info.\n",
      "Warning: Prefix '2_6088_A_0037223' is not found in WSI Info.\n",
      "Warning: Prefix '2_6094_A_0039851' is not found in WSI Info.\n",
      "Warning: Prefix '2_6097_A_0045196' is not found in WSI Info.\n",
      "Warning: Prefix '2_6128_A_0037277' is not found in WSI Info.\n",
      "Warning: Prefix '2_6130_A_0037288' is not found in WSI Info.\n",
      "Warning: Prefix 'KL-0023191_L03_TRIS_272723' is not found in WSI Info.\n"
     ]
    }
   ],
   "source": [
    "# Selecting cases in intra-arterial segmentation task (Zhou, JMI, 2024)\n",
    "inner_seg_prefixes = [x.replace(\".geojson\", \"\") for x in os.listdir(INNER_SEGMENTATION_REF_DIR) if x.endswith(\".geojson\")]\n",
    "inner_seg_biopsies, inner_seg_biopsy_to_wsi_map = identify_wsi_based_on_prefix(wsi_df, inner_seg_prefixes, STAIN)"
   ]
  },
  {
   "cell_type": "code",
   "execution_count": 5,
   "metadata": {},
   "outputs": [],
   "source": [
    "# Selecting cases in Tubule task (Fan)\n",
    "tubule_biopsies = set(wsi_df[wsi_df[\"USE_Tubule\"] == 1][\"biopsyid\"].unique())"
   ]
  },
  {
   "cell_type": "code",
   "execution_count": 6,
   "metadata": {},
   "outputs": [
    {
     "name": "stdout",
     "output_type": "stream",
     "text": [
      "Missing biopsy IDs for USE_Tubule: {'0_2245', '0_2910', '0_1641', '0_1678'}\n",
      "Missing biopsy IDs for Used_in_Vessel_Seg: {'0_3244', '0_1558', '0_3086', '0_3206', '0_1554', '0_2237', '0_1577', '0_770', '0_3130', '0_1518', '0_3188', '0_3168', '0_3214'}\n",
      "Missing biopsy IDs for Used_in_Inner_Structure_Seg: {'0_3282', '0_2992', '0_2972'}\n"
     ]
    }
   ],
   "source": [
    "# Update the patient info to flag biopsies used in various tasks.\n",
    "# It also checks for any missing biopsies in the list.\n",
    "\n",
    "# Update and check for \"USE_Tubule\"\n",
    "pat_df = update_flag_and_check_missing(pat_df, tubule_biopsies, \"USE_Tubule\")\n",
    "\n",
    "# Update and check for \"Used_in_Vessel_Seg\"\n",
    "pat_df = update_flag_and_check_missing(pat_df, seg_biopsies, \"Used_in_Vessel_Seg\")\n",
    "\n",
    "# Update and check for \"Used_in_Inner_Structure_Seg\"\n",
    "pat_df = update_flag_and_check_missing(pat_df, inner_seg_biopsies, \"Used_in_Inner_Structure_Seg\")"
   ]
  },
  {
   "cell_type": "code",
   "execution_count": 7,
   "metadata": {},
   "outputs": [
    {
     "name": "stdout",
     "output_type": "stream",
     "text": [
      "Cannot open: 13_26609_027_520 L03 TRI.svs\n",
      "The following files need to be found and uploaded: 0_2245_A_0056525.svs, 0_2910_A_0053486.svs, 0_1641_A_0047866.svs, 0_1678_A_0047884.svs, 17_26609_035_507 L3 TRI.svs, 11_26609_023_507 L12 TRI.ndpi, 12_26609_028_012 L05 TRI.ndpi, 11_26609_027_506 L03 TRI.svs\n"
     ]
    }
   ],
   "source": [
    "# Update clinical DataFrame with WSI file names for vessel and inner structure segmentation\n",
    "# Merge seg_biopsy_to_wsi_map and inner_seg_biopsy_to_wsi_map, with inner_seg_biopsy_to_wsi_map taking precedence in case of overlapping keys\n",
    "\n",
    "for biopsy_id, wsi_file in {**seg_biopsy_to_wsi_map, **inner_seg_biopsy_to_wsi_map}.items():\n",
    "    if biopsy_id in pat_df['BiopsyID'].values:\n",
    "        pat_df.loc[pat_df['BiopsyID'] == biopsy_id, 'WSI_Selected'] = wsi_file\n",
    "\n",
    "nonexistent_files = []\n",
    "# For additional biopsies, select a TRI file if not already assigned\n",
    "for biopsy_id in pat_df[\"BiopsyID\"].values:\n",
    "    # Check if 'WSI_Selected' is not null for the current biopsy_id\n",
    "    if not pat_df.loc[pat_df['BiopsyID'] == biopsy_id, 'WSI_Selected'].isnull().all():\n",
    "        continue  # Skip this iteration if WSI_Selected is already assigned\n",
    "    filenames = get_wsi_files_by_biopsy_id_and_stain(wsi_df, STAIN, biopsy_id)\n",
    "    for filename in filenames:\n",
    "        file_exists = check_if_file_exists(TRI_CASE_DIR, filename)\n",
    "        file_openable = file_exists and check_if_file_openable(TRI_CASE_DIR, filename)\n",
    "        if file_openable:\n",
    "            # Assign first openable file to WSI_Selected and stop checking further\n",
    "            pat_df.loc[pat_df['BiopsyID'] == biopsy_id, 'WSI_Selected'] = filename\n",
    "            break  # Found a suitable file, exit the loop\n",
    "        elif not file_exists:\n",
    "            # Assign the filename for further action but note it's nonexistent\n",
    "            pat_df.loc[pat_df['BiopsyID'] == biopsy_id, 'WSI_Selected'] = filename\n",
    "            nonexistent_files.append(filename)  # Keep track of nonexistent files\n",
    "            break  # Exit the loop after assignment\n",
    "        else:\n",
    "            # File exists but is not openable; print a message and continue checking other files\n",
    "            print(f\"Cannot open: {filename}\")\n",
    "            \n",
    "# Check if there are any nonexistent files recorded\n",
    "if nonexistent_files:\n",
    "    # Join the list of nonexistent files into a single string for better readability in the print statement\n",
    "    files_list_str = ', '.join(nonexistent_files)\n",
    "    print(f\"The following files need to be found and uploaded: {files_list_str}\")\n"
   ]
  },
  {
   "cell_type": "code",
   "execution_count": 8,
   "metadata": {},
   "outputs": [
    {
     "name": "stdout",
     "output_type": "stream",
     "text": [
      "Total Biopsies: 314\n",
      "Biopsies Used in Vessel Segmentation: 57\n",
      "Biopsies Used in Inner Structure Segmentation: 20\n",
      "Biopsies with a File Assigned for Vessel Project: 247\n"
     ]
    }
   ],
   "source": [
    "# Assuming wsi_df DataFrame is updated with \"Used_in_Vessel_Seg\", \"Used_in_Inner_Structure_Seg\", \"USE_Tubule\", \"use_vessel\", and \"WSI_Selected\" columns\n",
    "\n",
    "# Calculate statistics\n",
    "total_biopsies = len(pat_df)\n",
    "used_in_vessel_seg = pat_df[\"Used_in_Vessel_Seg\"].sum()\n",
    "used_in_inner_seg = pat_df[\"Used_in_Inner_Structure_Seg\"].sum()\n",
    "files_assigned_w_clinical_info = pat_df[pat_df[\"WSI_Selected\"].notna()\n",
    "                                             & pat_df[\"ESRDorEGFR40BX_LR\"].notna()\n",
    "                                             & pat_df[\"DaysBXtoESRDorEGFR40_LR\"].notna()].shape[0]\n",
    "# Print the statistics\n",
    "print(f\"Total Biopsies: {total_biopsies}\")\n",
    "print(f\"Biopsies Used in Vessel Segmentation: {used_in_vessel_seg}\")\n",
    "print(f\"Biopsies Used in Inner Structure Segmentation: {used_in_inner_seg}\")\n",
    "print(f\"Biopsies with a File Assigned for Vessel Project: {files_assigned_w_clinical_info}\")"
   ]
  },
  {
   "cell_type": "code",
   "execution_count": 9,
   "metadata": {},
   "outputs": [],
   "source": [
    "# Creating fake names for WSI (Whole Slide Images) selected for de-identification purposes.\n",
    "# 'Biopsy_index' is where the biopsy information is located. For example, 'Biopsy_001_WSI_001'.\n",
    "# We choose 'WSI_001' because, for each biopsy, we currently have only one WSI selected.\n",
    "# This naming convention is used in anticipation of potentially using multiple WSIs in the future.\n",
    "# The code iterates over each row in 'pat_df'. If the 'WSI_Selected' column is not null (indicating a selected WSI),\n",
    "# it assigns a fake name using the format 'Biopsy_{index}_WSI_001'. Otherwise, it assigns None.\n",
    "pat_df['WSI_Selected_Fake_Name'] = [\n",
    "    f\"Biopsy_{i+1:03d}_WSI_001\" if pd.notna(row['WSI_Selected']) else None\n",
    "    for i, row in pat_df.iterrows()\n",
    "]"
   ]
  },
  {
   "cell_type": "code",
   "execution_count": 10,
   "metadata": {},
   "outputs": [],
   "source": [
    "pat_df = pat_df[pat_df[\"WSI_Selected\"].notna()\n",
    "                & pat_df[\"ESRDorEGFR40BX_LR\"].notna()\n",
    "                & pat_df[\"DaysBXtoESRDorEGFR40_LR\"].notna()]"
   ]
  },
  {
   "cell_type": "code",
   "execution_count": 11,
   "metadata": {},
   "outputs": [],
   "source": [
    "# Save the updated clinical DataFrame to the specified file\n",
    "pat_df.to_csv(VESSEL_NEPTUNE_PAT_INFO_PATH, index=False)"
   ]
  }
 ],
 "metadata": {
  "kernelspec": {
   "display_name": "artery",
   "language": "python",
   "name": "python3"
  },
  "language_info": {
   "codemirror_mode": {
    "name": "ipython",
    "version": 3
   },
   "file_extension": ".py",
   "mimetype": "text/x-python",
   "name": "python",
   "nbconvert_exporter": "python",
   "pygments_lexer": "ipython3",
   "version": "3.9.18"
  }
 },
 "nbformat": 4,
 "nbformat_minor": 2
}
