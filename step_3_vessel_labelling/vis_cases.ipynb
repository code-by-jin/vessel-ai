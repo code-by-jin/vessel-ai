{
 "cells": [
  {
   "cell_type": "code",
   "execution_count": 1,
   "metadata": {},
   "outputs": [],
   "source": [
    "# Basic imports\n",
    "import os\n",
    "import sys\n",
    "import cv2 \n",
    "import numpy as np  \n",
    "import pandas as pd \n",
    "import openslide\n",
    "\n",
    "sys.path.append(os.path.abspath('..'))\n",
    "from utils.utils_data import get_veesel_sheets, get_segmentations\n",
    "from utils.utils_geometry import get_contours_by_classification, is_contour_match_bounds\n",
    "\n",
    "from utils.utils_vis import gallery_view\n",
    "from utils.utils_constants import (ARTERY_TYPES,\n",
    "                                   CLASSIFICATION_PATH,\n",
    "                                   SEGMENTATION_DIR,\n",
    "                                   TRI_CASE_DIR,\n",
    "                                   CROPPED_VESSELS_DIR)\n",
    "import matplotlib.pyplot as plt\n",
    "\n",
    "import logging\n",
    "logging.basicConfig(level=logging.INFO, format='%(asctime)s - %(levelname)s - %(message)s')"
   ]
  },
  {
   "cell_type": "code",
   "execution_count": 2,
   "metadata": {},
   "outputs": [],
   "source": [
    "SLIDE_FILENAME = \"11_26609_000_009_L2_TRI.svs\""
   ]
  },
  {
   "cell_type": "code",
   "execution_count": 3,
   "metadata": {},
   "outputs": [],
   "source": [
    "def vis_slide(classifications, segmentations):\n",
    "    for artery_type in ARTERY_TYPES:\n",
    "        print(artery_type)\n",
    "        images = []\n",
    "        titles = []\n",
    "        for _, row in classifications[classifications[\"Artery Type\"] == artery_type].iterrows():\n",
    "            bbox_x, bbox_y, bbox_width, bbox_height = map(int, row[\"Bounding Box\"].split(\",\"))\n",
    "\n",
    "            outer_contours = get_contours_by_classification(\n",
    "                segmentations,\n",
    "                lambda contour: is_contour_match_bounds(\n",
    "                    contour, (bbox_x, bbox_y, bbox_width, bbox_height)\n",
    "                ),\n",
    "                \"Media\"\n",
    "            )\n",
    "            assert(len(outer_contours)) == 1\n",
    "            # vessel_size = int(np.log(cv2.contourArea(outer_contours[0])))\n",
    "            area = cv2.contourArea(outer_contours[0])\n",
    "            vessel_size = f\"{round(area):.1e}\"\n",
    "\n",
    "            # cv2.drawContours(slide, outer_contours, -1, [255, 0, 0], 2)  # Outer contour in red\n",
    "            # Construct the path to the image file\n",
    "            image_path = os.path.join(CROPPED_VESSELS_DIR, artery_type, \n",
    "                                    row[\"Image Name\"].replace(\".png\", \"_w_ann.png\"))\n",
    "            img = cv2.imread(image_path, cv2.IMREAD_COLOR)  # Correct function to load the image\n",
    "            img = cv2.cvtColor(img, cv2.COLOR_BGR2RGB)  # Convert BGR to RGB for correct color display\n",
    "            images.append(img)\n",
    "            # Create a title using multiple fields from the DataFrame\n",
    "            title = f\"Size: {vessel_size}; AS: {row['Arteriosclerosis Severity']}; HS: {row['Hyalinosis Severity']}\"\n",
    "            # title = f\"B{row['Image Name'].split('_')[1]}{row['Artery ID']}-AS: {row['Arteriosclerosis Severity']}; HS: {row['Hyalinosis Severity']}\"\n",
    "            titles.append(title)\n",
    "        if len(images) > 0:\n",
    "            gallery_view(images, titles, cols=4)"
   ]
  },
  {
   "cell_type": "code",
   "execution_count": 4,
   "metadata": {},
   "outputs": [],
   "source": [
    "def get_border_of_cnt(cnt, border=0):\n",
    "    # cnt: coordinates, list of list, [[0, 0], [0, 1], ...]\n",
    "    cnt = np.array(cnt, dtype=int).squeeze()\n",
    "    xmin, xmax = np.min(cnt[:, 0]), np.max(cnt[:, 0])\n",
    "    ymin, ymax = np.min(cnt[:, 1]), np.max(cnt[:, 1])\n",
    "    return (xmin-border, xmax+border, ymin-border, ymax+border)\n",
    "\n",
    "def get_border_of_ann(ann, border=50):\n",
    "    # ann: need to be cleaned to get coordinates\n",
    "    (xmin, xmax) = (float('inf'), 0)\n",
    "    (ymin, ymax) = (float('inf'), 0)\n",
    "    for (i, ann_i) in enumerate(ann):\n",
    "        coords = ann_i['geometry']['coordinates']\n",
    "        curr_xmin, curr_xmax, curr_ymin, curr_ymax = get_border_of_cnt(coords)\n",
    "        xmin = min(xmin, curr_xmin)\n",
    "        xmax = max(xmax, curr_xmax)\n",
    "        ymin = min(ymin, curr_ymin)\n",
    "        ymax = max(ymax, curr_ymax)\n",
    "\n",
    "    return (xmin-border, xmax+border, ymin-border, ymax+border)"
   ]
  },
  {
   "cell_type": "code",
   "execution_count": null,
   "metadata": {},
   "outputs": [],
   "source": [
    "available_sheetnames = pd.ExcelFile(CLASSIFICATION_PATH).sheet_names\n",
    "slide_path = os.path.join(TRI_CASE_DIR, SLIDE_FILENAME)\n",
    "slide_0 = openslide.OpenSlide(slide_path)\n",
    "slide_basename = os.path.splitext(SLIDE_FILENAME)[0]\n",
    "classifications = get_veesel_sheets(CLASSIFICATION_PATH, slide_basename, available_sheetnames, remove_others=True)\n",
    "segmentations_path = os.path.join(SEGMENTATION_DIR, f\"{slide_basename}.geojson\")\n",
    "segmentations = get_segmentations(segmentations_path, clean=True)\n",
    "xmin, xmax, ymin, ymax = get_border_of_ann(segmentations, border=0)\n",
    "slide = slide_0.read_region((xmin, ymin), 0, (xmax-xmin, ymax-ymin))\n",
    "\n",
    "plt.imshow(np.array(slide))\n",
    "plt.axis(\"off\")\n",
    "plt.show()\n",
    "\n",
    "vis_slide(classifications, segmentations)"
   ]
  }
 ],
 "metadata": {
  "kernelspec": {
   "display_name": "artery",
   "language": "python",
   "name": "python3"
  },
  "language_info": {
   "codemirror_mode": {
    "name": "ipython",
    "version": 3
   },
   "file_extension": ".py",
   "mimetype": "text/x-python",
   "name": "python",
   "nbconvert_exporter": "python",
   "pygments_lexer": "ipython3",
   "version": "3.9.18"
  }
 },
 "nbformat": 4,
 "nbformat_minor": 2
}
